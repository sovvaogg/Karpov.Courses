{
 "cells": [
  {
   "cell_type": "markdown",
   "id": "e10d6243-2a91-426f-ae15-1a1a579e4761",
   "metadata": {},
   "source": [
    "# AA-test\n",
    "\n",
    "Нам необходимо проверить нашу систему спилитирования, исследовав результаты АА-теста, который проводился с 28 марта по 3 аперля 2022г.\n",
    "\n",
    "Если наша система работает корректно, то мы ожидаем, что статистически значимые различия будут встречаться только в результате случайного ложного срабатывания."
   ]
  },
  {
   "cell_type": "code",
   "execution_count": 111,
   "id": "184b8e0e-b93b-4b23-9b1a-4539c85c614d",
   "metadata": {},
   "outputs": [],
   "source": [
    "#импортруем необхожимые библиотеки\n",
    "import pandas as pd\n",
    "import numpy as np\n",
    "import seaborn as sns\n",
    "import matplotlib.pyplot as plt\n",
    "import pandahouse\n",
    "from scipy import stats\n",
    "\n",
    "sns.set()"
   ]
  },
  {
   "cell_type": "code",
   "execution_count": 46,
   "id": "a5486ebd-c19c-446e-afb8-91d05d406d39",
   "metadata": {
    "tags": []
   },
   "outputs": [],
   "source": [
    "#подключение к бд\n",
    "connection = {\n",
    "'host': 'https://clickhouse.lab.karpov.courses',\n",
    "'password': 'password',\n",
    "'user': 'student',\n",
    "'database': 'simulator_20220420'\n",
    "}"
   ]
  },
  {
   "cell_type": "code",
   "execution_count": 47,
   "id": "2c890a28-4d8e-4983-ba71-c77bc355d760",
   "metadata": {},
   "outputs": [],
   "source": [
    "#формируем запрос\n",
    "q = '''SELECT exp_group, \n",
    "    user_id,\n",
    "    sum(action = 'like') as likes,\n",
    "    sum(action = 'view') as views,\n",
    "    likes/views as ctr\n",
    "FROM {db}.feed_actions \n",
    "WHERE toDate(time) between '2022-03-28' and '2022-04-03'\n",
    "    and exp_group in (2,3)\n",
    "GROUP BY exp_group, user_id'''\n",
    "df = pandahouse.read_clickhouse(q, connection=connection)"
   ]
  },
  {
   "cell_type": "code",
   "execution_count": 48,
   "id": "1bf623b6-f938-41ec-8496-abc6e9daf461",
   "metadata": {},
   "outputs": [
    {
     "data": {
      "text/html": [
       "<div>\n",
       "<style scoped>\n",
       "    .dataframe tbody tr th:only-of-type {\n",
       "        vertical-align: middle;\n",
       "    }\n",
       "\n",
       "    .dataframe tbody tr th {\n",
       "        vertical-align: top;\n",
       "    }\n",
       "\n",
       "    .dataframe thead th {\n",
       "        text-align: right;\n",
       "    }\n",
       "</style>\n",
       "<table border=\"1\" class=\"dataframe\">\n",
       "  <thead>\n",
       "    <tr style=\"text-align: right;\">\n",
       "      <th></th>\n",
       "      <th>exp_group</th>\n",
       "      <th>user_id</th>\n",
       "      <th>likes</th>\n",
       "      <th>views</th>\n",
       "      <th>ctr</th>\n",
       "    </tr>\n",
       "  </thead>\n",
       "  <tbody>\n",
       "    <tr>\n",
       "      <th>0</th>\n",
       "      <td>3</td>\n",
       "      <td>115383</td>\n",
       "      <td>11</td>\n",
       "      <td>36</td>\n",
       "      <td>0.305556</td>\n",
       "    </tr>\n",
       "    <tr>\n",
       "      <th>1</th>\n",
       "      <td>2</td>\n",
       "      <td>131473</td>\n",
       "      <td>26</td>\n",
       "      <td>148</td>\n",
       "      <td>0.175676</td>\n",
       "    </tr>\n",
       "    <tr>\n",
       "      <th>2</th>\n",
       "      <td>3</td>\n",
       "      <td>123580</td>\n",
       "      <td>15</td>\n",
       "      <td>92</td>\n",
       "      <td>0.163043</td>\n",
       "    </tr>\n",
       "    <tr>\n",
       "      <th>3</th>\n",
       "      <td>2</td>\n",
       "      <td>23985</td>\n",
       "      <td>12</td>\n",
       "      <td>66</td>\n",
       "      <td>0.181818</td>\n",
       "    </tr>\n",
       "    <tr>\n",
       "      <th>4</th>\n",
       "      <td>2</td>\n",
       "      <td>24523</td>\n",
       "      <td>17</td>\n",
       "      <td>120</td>\n",
       "      <td>0.141667</td>\n",
       "    </tr>\n",
       "  </tbody>\n",
       "</table>\n",
       "</div>"
      ],
      "text/plain": [
       "   exp_group  user_id  likes  views       ctr\n",
       "0          3   115383     11     36  0.305556\n",
       "1          2   131473     26    148  0.175676\n",
       "2          3   123580     15     92  0.163043\n",
       "3          2    23985     12     66  0.181818\n",
       "4          2    24523     17    120  0.141667"
      ]
     },
     "execution_count": 48,
     "metadata": {},
     "output_type": "execute_result"
    }
   ],
   "source": [
    "df.head()"
   ]
  },
  {
   "cell_type": "code",
   "execution_count": 49,
   "id": "f876eaac-e079-4958-9d98-9039afb0caf7",
   "metadata": {},
   "outputs": [
    {
     "data": {
      "text/html": [
       "<div>\n",
       "<style scoped>\n",
       "    .dataframe tbody tr th:only-of-type {\n",
       "        vertical-align: middle;\n",
       "    }\n",
       "\n",
       "    .dataframe tbody tr th {\n",
       "        vertical-align: top;\n",
       "    }\n",
       "\n",
       "    .dataframe thead th {\n",
       "        text-align: right;\n",
       "    }\n",
       "</style>\n",
       "<table border=\"1\" class=\"dataframe\">\n",
       "  <thead>\n",
       "    <tr style=\"text-align: right;\">\n",
       "      <th></th>\n",
       "      <th>user_id</th>\n",
       "      <th>likes</th>\n",
       "      <th>views</th>\n",
       "      <th>ctr</th>\n",
       "    </tr>\n",
       "    <tr>\n",
       "      <th>exp_group</th>\n",
       "      <th></th>\n",
       "      <th></th>\n",
       "      <th></th>\n",
       "      <th></th>\n",
       "    </tr>\n",
       "  </thead>\n",
       "  <tbody>\n",
       "    <tr>\n",
       "      <th>2</th>\n",
       "      <td>8480</td>\n",
       "      <td>8480</td>\n",
       "      <td>8480</td>\n",
       "      <td>8480</td>\n",
       "    </tr>\n",
       "    <tr>\n",
       "      <th>3</th>\n",
       "      <td>8569</td>\n",
       "      <td>8569</td>\n",
       "      <td>8569</td>\n",
       "      <td>8569</td>\n",
       "    </tr>\n",
       "  </tbody>\n",
       "</table>\n",
       "</div>"
      ],
      "text/plain": [
       "           user_id  likes  views   ctr\n",
       "exp_group                             \n",
       "2             8480   8480   8480  8480\n",
       "3             8569   8569   8569  8569"
      ]
     },
     "execution_count": 49,
     "metadata": {},
     "output_type": "execute_result"
    }
   ],
   "source": [
    "#посмотрим на число пользователей в каждой группе\n",
    "df.groupby('exp_group').count()"
   ]
  },
  {
   "cell_type": "code",
   "execution_count": 50,
   "id": "201f0654-02f3-4a97-8207-b5c5c41e2097",
   "metadata": {},
   "outputs": [
    {
     "data": {
      "text/plain": [
       "<AxesSubplot:xlabel='ctr', ylabel='Count'>"
      ]
     },
     "execution_count": 50,
     "metadata": {},
     "output_type": "execute_result"
    },
    {
     "data": {
      "image/png": "[encoded data removed]",
      "text/plain": [
       "<Figure size 1080x576 with 1 Axes>"
      ]
     },
     "metadata": {},
     "output_type": "display_data"
    }
   ],
   "source": [
    "#визуализируем распределение CTR в двух группах\n",
    "plt.figure(figsize=(15,8))\n",
    "sns.histplot(data=df, x='ctr', hue='exp_group')"
   ]
  },
  {
   "cell_type": "markdown",
   "id": "2cde36a0-e93a-44d1-83b3-606fd874add6",
   "metadata": {},
   "source": [
    "В целом визуально распределения кажутся похожими.\n",
    "\n",
    "Что будем делать дальше?\n",
    "\n",
    "Нам необходимо провести симуляцию 10000 АА-тестов. На каждой итерации сформировать подвыборки с повторением в 500 юзеров из 2 и 3 экспериментальной группы и провести сравнение этих подвыборок t-testом, а так же:\n",
    "- Построить гистограмму распределения получившихся 10000 p-values.\n",
    "- Посчитать, какой процент p values оказался меньше либо равен 0.05"
   ]
  },
  {
   "cell_type": "code",
   "execution_count": 52,
   "id": "55f371cf-b302-4e60-a008-7de9d5d19fe2",
   "metadata": {},
   "outputs": [],
   "source": [
    "#в пустой лист будем добавлять получившиеся значения p value\n",
    "p_values = []\n",
    "for i in range(10000):\n",
    "    gr_2 = df.query('exp_group == 2')['ctr'].sample(500, replace=True)\n",
    "    gr_3 = df.query('exp_group == 3')['ctr'].sample(500, replace=True)\n",
    "    p_val = stats.ttest_ind(gr_2, gr_3, equal_var=False).pvalue\n",
    "    p_values.append(p_val)"
   ]
  },
  {
   "cell_type": "code",
   "execution_count": 54,
   "id": "beed953f-f85c-40a6-a330-1166a4ce6d2e",
   "metadata": {},
   "outputs": [],
   "source": [
    "#преобразуем лист в серию\n",
    "p_val_series = pd.Series(p_values)"
   ]
  },
  {
   "cell_type": "code",
   "execution_count": 102,
   "id": "8a6110ef-a615-46b0-bc60-845087f2d9a7",
   "metadata": {},
   "outputs": [
    {
     "data": {
      "image/png": "[encoded data removed]",
      "text/plain": [
       "<Figure size 1080x576 with 1 Axes>"
      ]
     },
     "metadata": {},
     "output_type": "display_data"
    }
   ],
   "source": [
    "#построим гистограмму получившихся значений\n",
    "plt.figure(figsize=(15,8))\n",
    "p_val_series.hist();"
   ]
  },
  {
   "cell_type": "markdown",
   "id": "083737f9-3e38-4c32-8d8e-f2ba287c53c8",
   "metadata": {},
   "source": [
    "Видим, что получившиеся значения p-value в целом равномерно распределены от 0 до 1, следовательно все значения примерно равновероятны."
   ]
  },
  {
   "cell_type": "code",
   "execution_count": 110,
   "id": "58843935-6ed9-4de0-a690-b708af9af457",
   "metadata": {},
   "outputs": [
    {
     "data": {
      "text/plain": [
       "0.0531"
      ]
     },
     "execution_count": 110,
     "metadata": {},
     "output_type": "execute_result"
    }
   ],
   "source": [
    "(p_val_series <= 0.05).mean()"
   ]
  },
  {
   "cell_type": "markdown",
   "id": "177ba720-1cae-4009-b823-89e54c6c12c2",
   "metadata": {},
   "source": [
    "А процент p-values меньших либо равных 0.05 почти равен 5% (небольшая погрешность допустима)"
   ]
  },
  {
   "cell_type": "markdown",
   "id": "cb412125-2341-4611-9dfe-fd178a57c703",
   "metadata": {},
   "source": [
    "Из проведенного исследования мы можем сделать выводы, что:\n",
    "- как и ожидалось ститистически значимые различия в двух группах обнаруживаются примерно в 5% случаев, если p-value считать равным 0.05;\n",
    "- следовательно наша система сплитирования работает корректно;"
   ]
  }
 ],
 "metadata": {
  "kernelspec": {
   "display_name": "Python 3 (ipykernel)",
   "language": "python",
   "name": "python3"
  },
  "language_info": {
   "codemirror_mode": {
    "name": "ipython",
    "version": 3
   },
   "file_extension": ".py",
   "mimetype": "text/x-python",
   "name": "python",
   "nbconvert_exporter": "python",
   "pygments_lexer": "ipython3",
   "version": "3.9.7"
  }
 },
 "nbformat": 4,
 "nbformat_minor": 5
}
