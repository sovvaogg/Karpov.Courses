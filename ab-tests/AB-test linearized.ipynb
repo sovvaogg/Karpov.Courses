{
 "cells": [
  {
   "cell_type": "code",
   "execution_count": 34,
   "id": "7f41d993-80de-43de-98b2-64f7e202fb54",
   "metadata": {},
   "outputs": [],
   "source": [
    "#импортруем необхожимые библиотеки\n",
    "import pandas as pd\n",
    "import numpy as np\n",
    "import seaborn as sns\n",
    "import matplotlib.pyplot as plt\n",
    "import pandahouse\n",
    "from scipy import stats\n",
    "\n",
    "sns.set()"
   ]
  },
  {
   "cell_type": "code",
   "execution_count": 35,
   "id": "4c835dc4-2842-40dc-a249-d268474cf049",
   "metadata": {},
   "outputs": [],
   "source": [
    "#подключение к бд\n",
    "connection = {\n",
    "'host': 'https://clickhouse.lab.karpov.courses',\n",
    "'password': 'password',\n",
    "'user': 'student',\n",
    "'database': 'simulator_20220420'\n",
    "}"
   ]
  },
  {
   "cell_type": "code",
   "execution_count": 36,
   "id": "95ea5716-6387-4613-9d21-e013e3f91740",
   "metadata": {},
   "outputs": [],
   "source": [
    "#формируем запрос для групп 0 и 3\n",
    "q = '''SELECT exp_group, \n",
    "    user_id,\n",
    "    sum(action = 'like') as likes,\n",
    "    sum(action = 'view') as views,\n",
    "    likes/views as ctr\n",
    "FROM {db}.feed_actions \n",
    "WHERE toDate(time) between '2022-04-04' and '2022-04-10'\n",
    "    and exp_group in (0,3)\n",
    "GROUP BY exp_group, user_id'''\n",
    "df_0_3 = pandahouse.read_clickhouse(q, connection=connection)"
   ]
  },
  {
   "cell_type": "code",
   "execution_count": 37,
   "id": "9da6a66e-2ef5-4e49-a3d3-1f2b421037c3",
   "metadata": {},
   "outputs": [
    {
     "data": {
      "text/html": [
       "<div>\n",
       "<style scoped>\n",
       "    .dataframe tbody tr th:only-of-type {\n",
       "        vertical-align: middle;\n",
       "    }\n",
       "\n",
       "    .dataframe tbody tr th {\n",
       "        vertical-align: top;\n",
       "    }\n",
       "\n",
       "    .dataframe thead th {\n",
       "        text-align: right;\n",
       "    }\n",
       "</style>\n",
       "<table border=\"1\" class=\"dataframe\">\n",
       "  <thead>\n",
       "    <tr style=\"text-align: right;\">\n",
       "      <th></th>\n",
       "      <th>exp_group</th>\n",
       "      <th>user_id</th>\n",
       "      <th>likes</th>\n",
       "      <th>views</th>\n",
       "      <th>ctr</th>\n",
       "    </tr>\n",
       "  </thead>\n",
       "  <tbody>\n",
       "    <tr>\n",
       "      <th>0</th>\n",
       "      <td>3</td>\n",
       "      <td>115383</td>\n",
       "      <td>9</td>\n",
       "      <td>30</td>\n",
       "      <td>0.300000</td>\n",
       "    </tr>\n",
       "    <tr>\n",
       "      <th>1</th>\n",
       "      <td>3</td>\n",
       "      <td>123580</td>\n",
       "      <td>13</td>\n",
       "      <td>48</td>\n",
       "      <td>0.270833</td>\n",
       "    </tr>\n",
       "    <tr>\n",
       "      <th>2</th>\n",
       "      <td>0</td>\n",
       "      <td>4944</td>\n",
       "      <td>8</td>\n",
       "      <td>41</td>\n",
       "      <td>0.195122</td>\n",
       "    </tr>\n",
       "    <tr>\n",
       "      <th>3</th>\n",
       "      <td>0</td>\n",
       "      <td>4504</td>\n",
       "      <td>5</td>\n",
       "      <td>15</td>\n",
       "      <td>0.333333</td>\n",
       "    </tr>\n",
       "    <tr>\n",
       "      <th>4</th>\n",
       "      <td>0</td>\n",
       "      <td>121508</td>\n",
       "      <td>18</td>\n",
       "      <td>88</td>\n",
       "      <td>0.204545</td>\n",
       "    </tr>\n",
       "  </tbody>\n",
       "</table>\n",
       "</div>"
      ],
      "text/plain": [
       "   exp_group  user_id  likes  views       ctr\n",
       "0          3   115383      9     30  0.300000\n",
       "1          3   123580     13     48  0.270833\n",
       "2          0     4944      8     41  0.195122\n",
       "3          0     4504      5     15  0.333333\n",
       "4          0   121508     18     88  0.204545"
      ]
     },
     "execution_count": 37,
     "metadata": {},
     "output_type": "execute_result"
    }
   ],
   "source": [
    "df_0_3.head()"
   ]
  },
  {
   "cell_type": "code",
   "execution_count": 38,
   "id": "ab8ea36f-106f-48a4-80c1-9232b8e59248",
   "metadata": {},
   "outputs": [],
   "source": [
    "#считаем общий ctr в контрольной группе\n",
    "CTRcontrol_0 = df_0_3.query('exp_group == 0').likes.sum() / df_0_3.query('exp_group == 0').views.sum()"
   ]
  },
  {
   "cell_type": "code",
   "execution_count": 39,
   "id": "a02dd758-3086-4791-a21c-dc04a348670c",
   "metadata": {},
   "outputs": [],
   "source": [
    "#посчитаем в обеих группах поюзерную метрику линеаризованных лайков\n",
    "df_0_3['linearized_likes'] = df_0_3.apply(lambda x: x['likes'] - x['views']*CTRcontrol_0, axis=1)"
   ]
  },
  {
   "cell_type": "code",
   "execution_count": 40,
   "id": "ce0b6607-4b17-4071-b670-baf5302650fb",
   "metadata": {},
   "outputs": [
    {
     "data": {
      "text/plain": [
       "Ttest_indResult(statistic=-13.896870721904069, pvalue=1.055849414662529e-43)"
      ]
     },
     "execution_count": 40,
     "metadata": {},
     "output_type": "execute_result"
    }
   ],
   "source": [
    "# сравним t-тестом отличия в группах сначала по метрике ctr \n",
    "stats.ttest_ind(df_0_3.query('exp_group == 0')['ctr'],\n",
    "                df_0_3.query('exp_group == 3')['ctr'],\n",
    "                equal_var=False)"
   ]
  },
  {
   "cell_type": "code",
   "execution_count": 41,
   "id": "98cd2b8f-a486-4b10-b6c0-350a59f45159",
   "metadata": {},
   "outputs": [
    {
     "data": {
      "text/plain": [
       "Ttest_indResult(statistic=-15.21499546090383, pvalue=5.4914249479687664e-52)"
      ]
     },
     "execution_count": 41,
     "metadata": {},
     "output_type": "execute_result"
    }
   ],
   "source": [
    "#теперь сравним отличия по метрике linearized_likes\n",
    "stats.ttest_ind(df_0_3.query('exp_group == 0')['linearized_likes'],\n",
    "                df_0_3.query('exp_group == 3')['linearized_likes'],\n",
    "                equal_var=False)"
   ]
  },
  {
   "cell_type": "markdown",
   "id": "d976757a-58ea-448b-bf4a-094b8d718200",
   "metadata": {},
   "source": [
    "В обоих случаях различия фиксируются, однако во втором тесте p-value меньше."
   ]
  },
  {
   "cell_type": "code",
   "execution_count": 45,
   "id": "31bef2a3-b541-4b08-8551-c62bfba516d8",
   "metadata": {},
   "outputs": [],
   "source": [
    "#формируем запрос для групп 1 и 2\n",
    "q = '''SELECT exp_group, \n",
    "    user_id,\n",
    "    sum(action = 'like') as likes,\n",
    "    sum(action = 'view') as views,\n",
    "    likes/views as ctr\n",
    "FROM {db}.feed_actions \n",
    "WHERE toDate(time) between '2022-04-04' and '2022-04-10'\n",
    "    and exp_group in (1,2)\n",
    "GROUP BY exp_group, user_id'''\n",
    "df_1_2 = pandahouse.read_clickhouse(q, connection=connection)"
   ]
  },
  {
   "cell_type": "code",
   "execution_count": 46,
   "id": "794d9f34-79b1-4605-a9d4-65896900a94d",
   "metadata": {},
   "outputs": [
    {
     "data": {
      "text/html": [
       "<div>\n",
       "<style scoped>\n",
       "    .dataframe tbody tr th:only-of-type {\n",
       "        vertical-align: middle;\n",
       "    }\n",
       "\n",
       "    .dataframe tbody tr th {\n",
       "        vertical-align: top;\n",
       "    }\n",
       "\n",
       "    .dataframe thead th {\n",
       "        text-align: right;\n",
       "    }\n",
       "</style>\n",
       "<table border=\"1\" class=\"dataframe\">\n",
       "  <thead>\n",
       "    <tr style=\"text-align: right;\">\n",
       "      <th></th>\n",
       "      <th>exp_group</th>\n",
       "      <th>user_id</th>\n",
       "      <th>likes</th>\n",
       "      <th>views</th>\n",
       "      <th>ctr</th>\n",
       "    </tr>\n",
       "  </thead>\n",
       "  <tbody>\n",
       "    <tr>\n",
       "      <th>0</th>\n",
       "      <td>1</td>\n",
       "      <td>109963</td>\n",
       "      <td>3</td>\n",
       "      <td>15</td>\n",
       "      <td>0.200000</td>\n",
       "    </tr>\n",
       "    <tr>\n",
       "      <th>1</th>\n",
       "      <td>1</td>\n",
       "      <td>26117</td>\n",
       "      <td>32</td>\n",
       "      <td>141</td>\n",
       "      <td>0.226950</td>\n",
       "    </tr>\n",
       "    <tr>\n",
       "      <th>2</th>\n",
       "      <td>1</td>\n",
       "      <td>138232</td>\n",
       "      <td>18</td>\n",
       "      <td>73</td>\n",
       "      <td>0.246575</td>\n",
       "    </tr>\n",
       "    <tr>\n",
       "      <th>3</th>\n",
       "      <td>1</td>\n",
       "      <td>26295</td>\n",
       "      <td>33</td>\n",
       "      <td>122</td>\n",
       "      <td>0.270492</td>\n",
       "    </tr>\n",
       "    <tr>\n",
       "      <th>4</th>\n",
       "      <td>1</td>\n",
       "      <td>18392</td>\n",
       "      <td>7</td>\n",
       "      <td>32</td>\n",
       "      <td>0.218750</td>\n",
       "    </tr>\n",
       "  </tbody>\n",
       "</table>\n",
       "</div>"
      ],
      "text/plain": [
       "   exp_group  user_id  likes  views       ctr\n",
       "0          1   109963      3     15  0.200000\n",
       "1          1    26117     32    141  0.226950\n",
       "2          1   138232     18     73  0.246575\n",
       "3          1    26295     33    122  0.270492\n",
       "4          1    18392      7     32  0.218750"
      ]
     },
     "execution_count": 46,
     "metadata": {},
     "output_type": "execute_result"
    }
   ],
   "source": [
    "df_1_2.head()"
   ]
  },
  {
   "cell_type": "code",
   "execution_count": 47,
   "id": "636bebb9-848c-48ea-8a2b-3e7c5c85f70c",
   "metadata": {},
   "outputs": [],
   "source": [
    "#так же считаем общий ctr в контрольной группе\n",
    "CTRcontrol_1 = df_1_2.query('exp_group == 1').likes.sum() / df_1_2.query('exp_group == 1').views.sum()"
   ]
  },
  {
   "cell_type": "code",
   "execution_count": 48,
   "id": "9f9d9842-2a9f-4e99-a7f9-e904f340301e",
   "metadata": {},
   "outputs": [],
   "source": [
    "#так же посчитаем в обеих группах поюзерную метрику линеаризованных лайков\n",
    "df_1_2['linearized_likes'] = df_1_2.apply(lambda x: x['likes'] - x['views']*CTRcontrol_1, axis=1)"
   ]
  },
  {
   "cell_type": "code",
   "execution_count": 49,
   "id": "bf2530db-3c09-4692-9418-46c1fc4e558c",
   "metadata": {},
   "outputs": [
    {
     "data": {
      "text/plain": [
       "Ttest_indResult(statistic=0.7094392041270485, pvalue=0.4780623130874935)"
      ]
     },
     "execution_count": 49,
     "metadata": {},
     "output_type": "execute_result"
    }
   ],
   "source": [
    "stats.ttest_ind(df_1_2.query('exp_group == 1')['ctr'],\n",
    "                df_1_2.query('exp_group == 2')['ctr'],\n",
    "                equal_var=False)"
   ]
  },
  {
   "cell_type": "code",
   "execution_count": 50,
   "id": "41183c92-9c2d-4a0e-9d27-a0ebda6d2abb",
   "metadata": {},
   "outputs": [
    {
     "data": {
      "text/plain": [
       "Ttest_indResult(statistic=6.122579994775972, pvalue=9.439432187037712e-10)"
      ]
     },
     "execution_count": 50,
     "metadata": {},
     "output_type": "execute_result"
    }
   ],
   "source": [
    "stats.ttest_ind(df_1_2.query('exp_group == 1')['linearized_likes'],\n",
    "                df_1_2.query('exp_group == 2')['linearized_likes'],\n",
    "                equal_var=False)"
   ]
  },
  {
   "cell_type": "markdown",
   "id": "7c12b3e5-14fe-43a4-abf5-d24ffc25ce0b",
   "metadata": {},
   "source": [
    "В данном случае t-тест зафиксировал разницу только после линеаризации лайков."
   ]
  }
 ],
 "metadata": {
  "kernelspec": {
   "display_name": "Python 3 (ipykernel)",
   "language": "python",
   "name": "python3"
  },
  "language_info": {
   "codemirror_mode": {
    "name": "ipython",
    "version": 3
   },
   "file_extension": ".py",
   "mimetype": "text/x-python",
   "name": "python",
   "nbconvert_exporter": "python",
   "pygments_lexer": "ipython3",
   "version": "3.9.7"
  }
 },
 "nbformat": 4,
 "nbformat_minor": 5
}
