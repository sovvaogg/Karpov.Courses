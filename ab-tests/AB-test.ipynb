{
 "cells": [
  {
   "cell_type": "markdown",
   "id": "73505d4a-2b3f-415d-b832-1135f46999f9",
   "metadata": {},
   "source": [
    "# AB-test\n",
    "\n"
   ]
  },
  {
   "cell_type": "code",
   "execution_count": 2,
   "id": "1f192ef0-2ca4-4cf0-a443-fe63137e89fe",
   "metadata": {},
   "outputs": [],
   "source": [
    "#импортруем необхожимые библиотеки\n",
    "import pandas as pd\n",
    "import numpy as np\n",
    "import seaborn as sns\n",
    "import matplotlib.pyplot as plt\n",
    "import pandahouse\n",
    "from scipy import stats\n",
    "\n",
    "sns.set()"
   ]
  },
  {
   "cell_type": "code",
   "execution_count": 3,
   "id": "fd0d04e1-b932-4f76-87e1-cb4263b8141a",
   "metadata": {},
   "outputs": [],
   "source": [
    "#подключение к бд\n",
    "connection = {\n",
    "'host': 'https://clickhouse.lab.karpov.courses',\n",
    "'password': 'password',\n",
    "'user': 'student',\n",
    "'database': 'simulator_20220420'\n",
    "}"
   ]
  },
  {
   "cell_type": "code",
   "execution_count": 4,
   "id": "54d233aa-cf28-4ca6-8828-e01f0e4ba1ce",
   "metadata": {},
   "outputs": [],
   "source": [
    "#формируем запрос\n",
    "q = '''SELECT exp_group, \n",
    "    user_id,\n",
    "    sum(action = 'like') as likes,\n",
    "    sum(action = 'view') as views,\n",
    "    likes/views as ctr\n",
    "FROM {db}.feed_actions \n",
    "WHERE toDate(time) between '2022-04-04' and '2022-04-10'\n",
    "    and exp_group in (2,1)\n",
    "GROUP BY exp_group, user_id'''\n",
    "df = pandahouse.read_clickhouse(q, connection=connection)"
   ]
  },
  {
   "cell_type": "code",
   "execution_count": 5,
   "id": "2ff9d839-27eb-4c8e-8b58-02181d274f7d",
   "metadata": {},
   "outputs": [
    {
     "data": {
      "text/html": [
       "<div>\n",
       "<style scoped>\n",
       "    .dataframe tbody tr th:only-of-type {\n",
       "        vertical-align: middle;\n",
       "    }\n",
       "\n",
       "    .dataframe tbody tr th {\n",
       "        vertical-align: top;\n",
       "    }\n",
       "\n",
       "    .dataframe thead th {\n",
       "        text-align: right;\n",
       "    }\n",
       "</style>\n",
       "<table border=\"1\" class=\"dataframe\">\n",
       "  <thead>\n",
       "    <tr style=\"text-align: right;\">\n",
       "      <th></th>\n",
       "      <th>exp_group</th>\n",
       "      <th>user_id</th>\n",
       "      <th>likes</th>\n",
       "      <th>views</th>\n",
       "      <th>ctr</th>\n",
       "    </tr>\n",
       "  </thead>\n",
       "  <tbody>\n",
       "    <tr>\n",
       "      <th>0</th>\n",
       "      <td>1</td>\n",
       "      <td>109963</td>\n",
       "      <td>3</td>\n",
       "      <td>15</td>\n",
       "      <td>0.200000</td>\n",
       "    </tr>\n",
       "    <tr>\n",
       "      <th>1</th>\n",
       "      <td>1</td>\n",
       "      <td>26117</td>\n",
       "      <td>32</td>\n",
       "      <td>141</td>\n",
       "      <td>0.226950</td>\n",
       "    </tr>\n",
       "    <tr>\n",
       "      <th>2</th>\n",
       "      <td>1</td>\n",
       "      <td>138232</td>\n",
       "      <td>18</td>\n",
       "      <td>73</td>\n",
       "      <td>0.246575</td>\n",
       "    </tr>\n",
       "    <tr>\n",
       "      <th>3</th>\n",
       "      <td>1</td>\n",
       "      <td>26295</td>\n",
       "      <td>33</td>\n",
       "      <td>122</td>\n",
       "      <td>0.270492</td>\n",
       "    </tr>\n",
       "    <tr>\n",
       "      <th>4</th>\n",
       "      <td>1</td>\n",
       "      <td>18392</td>\n",
       "      <td>7</td>\n",
       "      <td>32</td>\n",
       "      <td>0.218750</td>\n",
       "    </tr>\n",
       "  </tbody>\n",
       "</table>\n",
       "</div>"
      ],
      "text/plain": [
       "   exp_group  user_id  likes  views       ctr\n",
       "0          1   109963      3     15  0.200000\n",
       "1          1    26117     32    141  0.226950\n",
       "2          1   138232     18     73  0.246575\n",
       "3          1    26295     33    122  0.270492\n",
       "4          1    18392      7     32  0.218750"
      ]
     },
     "execution_count": 5,
     "metadata": {},
     "output_type": "execute_result"
    }
   ],
   "source": [
    "df.head()"
   ]
  },
  {
   "cell_type": "code",
   "execution_count": 6,
   "id": "a5e9eb73-8b5b-409c-889f-64a026440a52",
   "metadata": {},
   "outputs": [
    {
     "data": {
      "text/html": [
       "<div>\n",
       "<style scoped>\n",
       "    .dataframe tbody tr th:only-of-type {\n",
       "        vertical-align: middle;\n",
       "    }\n",
       "\n",
       "    .dataframe tbody tr th {\n",
       "        vertical-align: top;\n",
       "    }\n",
       "\n",
       "    .dataframe thead th {\n",
       "        text-align: right;\n",
       "    }\n",
       "</style>\n",
       "<table border=\"1\" class=\"dataframe\">\n",
       "  <thead>\n",
       "    <tr style=\"text-align: right;\">\n",
       "      <th></th>\n",
       "      <th>user_id</th>\n",
       "      <th>likes</th>\n",
       "      <th>views</th>\n",
       "      <th>ctr</th>\n",
       "    </tr>\n",
       "    <tr>\n",
       "      <th>exp_group</th>\n",
       "      <th></th>\n",
       "      <th></th>\n",
       "      <th></th>\n",
       "      <th></th>\n",
       "    </tr>\n",
       "  </thead>\n",
       "  <tbody>\n",
       "    <tr>\n",
       "      <th>1</th>\n",
       "      <td>10079</td>\n",
       "      <td>10079</td>\n",
       "      <td>10079</td>\n",
       "      <td>10079</td>\n",
       "    </tr>\n",
       "    <tr>\n",
       "      <th>2</th>\n",
       "      <td>9952</td>\n",
       "      <td>9952</td>\n",
       "      <td>9952</td>\n",
       "      <td>9952</td>\n",
       "    </tr>\n",
       "  </tbody>\n",
       "</table>\n",
       "</div>"
      ],
      "text/plain": [
       "           user_id  likes  views    ctr\n",
       "exp_group                              \n",
       "1            10079  10079  10079  10079\n",
       "2             9952   9952   9952   9952"
      ]
     },
     "execution_count": 6,
     "metadata": {},
     "output_type": "execute_result"
    }
   ],
   "source": [
    "#в обоих группах почти равное количество пользователей - десять тысяч\n",
    "df.groupby('exp_group').count()"
   ]
  },
  {
   "cell_type": "markdown",
   "id": "80ced241-d258-4456-81b7-a741236b4652",
   "metadata": {},
   "source": [
    "Проведем тесты.\n",
    "\n",
    "Наша нулевая гипотеза звучит так: CTR контрольной и экспериментальной группы не различаются.\n",
    "\n",
    "Соответсвенно альтернативная гипотеза: CTR контрольной и экспериментальной группы различаются."
   ]
  },
  {
   "cell_type": "markdown",
   "id": "d525f89b-f77a-49a8-ab57-e0e60961e0df",
   "metadata": {},
   "source": [
    "T-test"
   ]
  },
  {
   "cell_type": "code",
   "execution_count": 7,
   "id": "81336879-035b-405f-bd75-0ab215231fe4",
   "metadata": {},
   "outputs": [
    {
     "data": {
      "text/plain": [
       "Ttest_indResult(statistic=-0.7094392041270486, pvalue=0.4780623130874935)"
      ]
     },
     "execution_count": 7,
     "metadata": {},
     "output_type": "execute_result"
    }
   ],
   "source": [
    "stats.ttest_ind(df.query('exp_group == 2')['ctr'],\n",
    "                df.query('exp_group == 1')['ctr'],\n",
    "                equal_var=False)"
   ]
  },
  {
   "cell_type": "markdown",
   "id": "1fc7e86a-ba95-4baa-a280-b1eb2ba60c44",
   "metadata": {},
   "source": [
    "t-test показывет, что статистически значимых различий в двух группах нет, т.е. нет оснований отклонить нашу нулевую гипотезу о равенстве средних ctr в двух группах."
   ]
  },
  {
   "cell_type": "markdown",
   "id": "ea8760a0-ed0d-4c42-879c-fd9a5b5f7e7a",
   "metadata": {},
   "source": [
    "Mann–Whitney"
   ]
  },
  {
   "cell_type": "code",
   "execution_count": 8,
   "id": "1836af87-7fe7-4580-a905-12a04d56d43f",
   "metadata": {},
   "outputs": [
    {
     "data": {
      "text/plain": [
       "MannwhitneyuResult(statistic=43704947.5, pvalue=6.0376484617779035e-56)"
      ]
     },
     "execution_count": 8,
     "metadata": {},
     "output_type": "execute_result"
    }
   ],
   "source": [
    "stats.mannwhitneyu(df.query('exp_group == 2')['ctr'],\n",
    "                   df.query('exp_group == 1')['ctr'],\n",
    "                   alternative = 'two-sided')"
   ]
  },
  {
   "cell_type": "markdown",
   "id": "87e002e8-59dc-460d-8f80-5e4a3f25b736",
   "metadata": {},
   "source": [
    "Тест Манна-Уитни же говорит о том, что средние различны"
   ]
  },
  {
   "cell_type": "markdown",
   "id": "a7ecb3c2-1f54-44cc-9aae-ffea71a93511",
   "metadata": {},
   "source": [
    "Пуассоновский бутстреп"
   ]
  },
  {
   "cell_type": "code",
   "execution_count": 9,
   "id": "6b2aa949-8c64-48e1-a122-e7058b4a26bf",
   "metadata": {},
   "outputs": [],
   "source": [
    "#функция бутстрепа\n",
    "def bootstrap(likes1, views1, likes2, views2, n_bootstrap=2000):\n",
    "\n",
    "    poisson_bootstraps1 = stats.poisson(1).rvs(\n",
    "        (n_bootstrap, len(likes1))).astype(np.int64)\n",
    "\n",
    "    poisson_bootstraps2 = stats.poisson(1).rvs(\n",
    "            (n_bootstrap, len(likes2))).astype(np.int64)\n",
    "    \n",
    "    globalCTR1 = (poisson_bootstraps1*likes1).sum(axis=1)/(poisson_bootstraps1*views1).sum(axis=1)\n",
    "    \n",
    "    globalCTR2 = (poisson_bootstraps2*likes2).sum(axis=1)/(poisson_bootstraps2*views2).sum(axis=1)\n",
    "\n",
    "    return globalCTR1, globalCTR2"
   ]
  },
  {
   "cell_type": "code",
   "execution_count": 10,
   "id": "d59b5d3d-c2e2-482e-901e-adc390df4ad7",
   "metadata": {},
   "outputs": [],
   "source": [
    "likes1 = df[df.exp_group == 1].likes.to_numpy()\n",
    "views1 = df[df.exp_group == 1].views.to_numpy()\n",
    "likes2 = df[df.exp_group == 2].likes.to_numpy()\n",
    "views2 = df[df.exp_group == 2].views.to_numpy()"
   ]
  },
  {
   "cell_type": "code",
   "execution_count": 11,
   "id": "e0664c7f-1e12-45c6-87dd-a5a4e961a050",
   "metadata": {},
   "outputs": [],
   "source": [
    "ctr1, ctr2 = bootstrap(likes1, views1, likes2, views2)"
   ]
  },
  {
   "cell_type": "code",
   "execution_count": 12,
   "id": "77e207fc-dcd3-4bbf-8f44-ac334cf9a9a9",
   "metadata": {},
   "outputs": [
    {
     "data": {
      "image/png": "[encoded data removed]",
      "text/plain": [
       "<Figure size 432x288 with 1 Axes>"
      ]
     },
     "metadata": {},
     "output_type": "display_data"
    }
   ],
   "source": [
    "sns.histplot(ctr1, color='r')\n",
    "sns.histplot(ctr2);"
   ]
  },
  {
   "cell_type": "markdown",
   "id": "5e8a6ca9-22cb-4735-91dc-4d8a4bcc48bb",
   "metadata": {},
   "source": [
    "Бутстреп показывает что в одной группе групповой ctr выше, чем в другой, а точнее в группе 1, т.е. в контрольной."
   ]
  },
  {
   "cell_type": "code",
   "execution_count": 13,
   "id": "c6f83d3a-f3db-447d-a2f6-8923f0f82a0e",
   "metadata": {},
   "outputs": [
    {
     "data": {
      "image/png": "[encoded data removed]",
      "text/plain": [
       "<Figure size 1080x576 with 1 Axes>"
      ]
     },
     "metadata": {},
     "output_type": "display_data"
    }
   ],
   "source": [
    "#посмотрим на распределение ctr на графике.\n",
    "plt.figure(figsize=(15,8))\n",
    "sns.histplot(data=df, x='ctr', hue='exp_group');"
   ]
  },
  {
   "cell_type": "markdown",
   "id": "20919aa3-413d-4a90-8b74-34d61e8a7ce3",
   "metadata": {},
   "source": [
    "Как видно на графике, в отличии от контрольной группы, распределение ctr которой выглядит нормальным, у эксперементальной группы распределение двухмодально."
   ]
  },
  {
   "cell_type": "code",
   "execution_count": 14,
   "id": "32a7eba3-98ca-4864-80d1-7fa3e1c8dc2b",
   "metadata": {},
   "outputs": [
    {
     "data": {
      "text/plain": [
       "exp_group\n",
       "1    0.215605\n",
       "2    0.214419\n",
       "Name: ctr, dtype: float64"
      ]
     },
     "execution_count": 14,
     "metadata": {},
     "output_type": "execute_result"
    }
   ],
   "source": [
    "df.groupby('exp_group')['ctr'].mean()"
   ]
  },
  {
   "cell_type": "markdown",
   "id": "86d80a94-ae56-463e-815b-7780a96f87ed",
   "metadata": {},
   "source": [
    "Однако средние значения ctr в двух группах практически равны, поэтому t-test показывает что статистически значимых различий нет."
   ]
  },
  {
   "cell_type": "markdown",
   "id": "66928fef-362e-455f-8a59-4c5e7a902154",
   "metadata": {},
   "source": [
    "Вероятнее всего разница в виде распределения ctr в двух группах говорит о том, что новая функциональность на часть пользователей повлияла положительно, а на часть негативно.\n",
    "\n",
    "Определенно раскатывать новый алгоритм на всех пользователей не стоит, возможно его стоит доработать, так как та часть пользователей, на которых алгоритм повлиял негативно, может попасть в отток, из-за негативного опыта с нашим приложением."
   ]
  }
 ],
 "metadata": {
  "kernelspec": {
   "display_name": "Python 3 (ipykernel)",
   "language": "python",
   "name": "python3"
  },
  "language_info": {
   "codemirror_mode": {
    "name": "ipython",
    "version": 3
   },
   "file_extension": ".py",
   "mimetype": "text/x-python",
   "name": "python",
   "nbconvert_exporter": "python",
   "pygments_lexer": "ipython3",
   "version": "3.9.7"
  }
 },
 "nbformat": 4,
 "nbformat_minor": 5
}
